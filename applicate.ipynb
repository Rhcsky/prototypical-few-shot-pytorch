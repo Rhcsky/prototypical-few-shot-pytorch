{
 "cells": [
  {
   "cell_type": "code",
   "execution_count": null,
   "metadata": {
    "collapsed": true
   },
   "outputs": [],
   "source": [
    "import os\n",
    "from glob import glob\n",
    "\n",
    "import torch\n",
    "import torch.backends.cudnn as cudnn\n",
    "from torch.utils.tensorboard import SummaryWriter\n",
    "import numpy as np\n",
    "\n",
    "from configurate import get_config\n",
    "from dataloader import get_dataloader\n",
    "from protonets import ProtoNet\n",
    "from one_cycle_policy import OneCyclePolicy\n",
    "# from prototypical_loss import PrototypicalLoss\n",
    "from utils import AverageMeter\n",
    "from tqdm.notebook import tqdm\n",
    "\n",
    "from easydict import EasyDict"
   ]
  }
 ],
 "metadata": {
  "kernelspec": {
   "display_name": "Python 3",
   "language": "python",
   "name": "python3"
  },
  "language_info": {
   "codemirror_mode": {
    "name": "ipython",
    "version": 2
   },
   "file_extension": ".py",
   "mimetype": "text/x-python",
   "name": "python",
   "nbconvert_exporter": "python",
   "pygments_lexer": "ipython2",
   "version": "2.7.6"
  }
 },
 "nbformat": 4,
 "nbformat_minor": 0
}