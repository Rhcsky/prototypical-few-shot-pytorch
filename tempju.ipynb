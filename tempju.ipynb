{
 "cells": [
  {
   "cell_type": "code",
   "execution_count": 25,
   "metadata": {
    "collapsed": true
   },
   "outputs": [],
   "source": [
    "import os\n",
    "from glob import glob\n",
    "\n",
    "import torch\n",
    "import torch.backends.cudnn as cudnn\n",
    "from torch.utils.tensorboard import SummaryWriter\n",
    "import numpy as np\n",
    "\n",
    "from configurate import get_config\n",
    "from dataloader import get_dataloader\n",
    "from protonets import ProtoNet\n",
    "from one_cycle_policy import OneCyclePolicy\n",
    "# from prototypical_loss import PrototypicalLoss\n",
    "from prototypical_loss2 import PrototypicalLoss\n",
    "from utils import AverageMeter\n",
    "from tqdm.notebook import tqdm\n",
    "\n",
    "from easydict import EasyDict"
   ]
  },
  {
   "cell_type": "code",
   "execution_count": 4,
   "outputs": [],
   "source": [
    "args = EasyDict({\n",
    "    \"dataset_dir\" : 'data',\n",
    "    \"exp_name\" : 'TEST',\n",
    "    \"epochs\" : 100,\n",
    "    \"lr\" : 0.001,\n",
    "    \"lr_scheduler_step\" : 20,\n",
    "    \"lr_scheduler_gamma\" : 0.5,\n",
    "    \"manual_seed\" : 7,\n",
    "    'log_dir' : 'runs',\n",
    "    'resume' : False,\n",
    "    'iterations' : 100,\n",
    "    'classes_per_it_tr' : 60,\n",
    "    'num_support_tr' : 5,\n",
    "    'num_query_tr' : 5,\n",
    "    'classes_per_it_val' : 5,\n",
    "    'num_support_val' : 5,\n",
    "    'num_query_val' : 15,\n",
    "})\n",
    "\n",
    "args.log_dir = os.path.join(args.log_dir,args.exp_name)\n",
    "device = 'cpu'"
   ],
   "metadata": {
    "collapsed": false,
    "pycharm": {
     "name": "#%%\n"
    }
   }
  },
  {
   "cell_type": "code",
   "execution_count": 5,
   "outputs": [
    {
     "name": "stdout",
     "output_type": "stream",
     "text": [
      "Loading data...done\n"
     ]
    }
   ],
   "source": [
    "val_loader = get_dataloader(args, 'train')\n",
    "\n",
    "model = ProtoNet().to(device)\n",
    "\n",
    "data = next(iter(val_loader))"
   ],
   "metadata": {
    "collapsed": false,
    "pycharm": {
     "name": "#%%\n"
    }
   }
  },
  {
   "cell_type": "code",
   "execution_count": 6,
   "outputs": [],
   "source": [
    "x, y = data[0], data[1]"
   ],
   "metadata": {
    "collapsed": false,
    "pycharm": {
     "name": "#%%\n"
    }
   }
  },
  {
   "cell_type": "code",
   "execution_count": 20,
   "outputs": [
    {
     "name": "stdout",
     "output_type": "stream",
     "text": [
      "600\n",
      "600\n",
      "torch.Size([600, 1, 28, 28])\n",
      "torch.Size([600])\n",
      "torch.Size([1, 28, 28])\n",
      "60\n"
     ]
    }
   ],
   "source": [
    "print(len(x))\n",
    "print(len(y))\n",
    "print(x.shape)\n",
    "print(y.shape)\n",
    "print(x[0].shape)"
   ],
   "metadata": {
    "collapsed": false,
    "pycharm": {
     "name": "#%%\n"
    }
   }
  },
  {
   "cell_type": "code",
   "execution_count": 21,
   "outputs": [],
   "source": [
    "output = model(x)\n"
   ],
   "metadata": {
    "collapsed": false,
    "pycharm": {
     "name": "#%%\n"
    }
   }
  },
  {
   "cell_type": "code",
   "execution_count": 73,
   "outputs": [
    {
     "name": "stdout",
     "output_type": "stream",
     "text": [
      "tensor([[0.7022, 0.0000, 1.0635, 0.9263, 1.2506, 1.4464, 0.2688, 0.7035, 0.9000,\n",
      "         1.7206, 0.5364, 1.1941, 0.1021, 1.4347, 0.4625, 0.0650, 0.1614, 0.2412,\n",
      "         0.6972, 2.0165, 1.8409, 0.0552, 0.8492, 0.1855, 0.0000, 0.0000, 1.2591,\n",
      "         1.0737, 0.2296, 1.0826, 2.1406, 0.2337, 1.3483, 0.9681, 0.8804, 0.7693,\n",
      "         0.0250, 0.4393, 0.3813, 0.5563, 0.0000, 1.5188, 0.6951, 1.2831, 1.9443,\n",
      "         1.4142, 1.0503, 1.3200, 0.6807, 0.3002, 1.3096, 0.1353, 1.3005, 1.1397,\n",
      "         1.3880, 2.3217, 0.8153, 1.0755, 1.4852, 0.0000, 0.3125, 0.4396, 1.4121,\n",
      "         1.6893]], grad_fn=<SliceBackward>)\n",
      "tensor([[0.7368, 0.4754, 0.5043, 0.7442, 0.8143, 1.2315, 0.0651, 1.6028, 0.8586,\n",
      "         1.3559, 0.7544, 1.2305, 0.1563, 1.2188, 1.2568, 0.3338, 0.5958, 0.4568,\n",
      "         0.0000, 1.1136, 1.8422, 0.2678, 0.8315, 0.3272, 0.0143, 0.0000, 0.9105,\n",
      "         1.6440, 0.2926, 1.1777, 0.9825, 0.0237, 1.5522, 0.5521, 0.5109, 0.8916,\n",
      "         0.2939, 0.3058, 0.1418, 1.5322, 0.1213, 0.1949, 0.3409, 0.9539, 1.9138,\n",
      "         0.5740, 0.7115, 0.4899, 0.6153, 0.5464, 0.8994, 0.2901, 1.3105, 1.4075,\n",
      "         1.5932, 1.5306, 1.1583, 0.6052, 1.4423, 0.2564, 0.7814, 0.6696, 1.7505,\n",
      "         1.9089]], grad_fn=<SliceBackward>)\n",
      "torch.Size([300, 64])\n",
      "torch.Size([60, 64])\n",
      "torch.Size([300, 60, 64])\n",
      "torch.Size([300, 60, 64])\n"
     ]
    }
   ],
   "source": [
    "import torch\n",
    "from torch.nn import functional as F\n",
    "from torch.nn.modules import Module\n",
    "def euclidean_dist(x, y):\n",
    "    '''\n",
    "    Compute euclidean distance between two tensors\n",
    "    '''\n",
    "    # x: N x D\n",
    "    # y: M x D\n",
    "    n = x.size(0)\n",
    "    m = y.size(0)\n",
    "    d = x.size(-1)\n",
    "    if d != y.size(-1):\n",
    "        raise Exception\n",
    "\n",
    "    x = x.unsqueeze(1).expand(n, m, d)\n",
    "    y = y.unsqueeze(0).expand(n, m, d)\n",
    "\n",
    "    print(x.shape)\n",
    "    print(y.shape)\n",
    "\n",
    "    return torch.pow(x - y, 2).sum(2)\n",
    "\n",
    "class PrototypicalLoss2(Module):\n",
    "    '''\n",
    "    Loss class deriving from Module for the prototypical loss\n",
    "    '''\n",
    "\n",
    "    def __init__(self, n_support, n_query, n_class):\n",
    "        super(PrototypicalLoss2, self).__init__()\n",
    "        self.n_support = n_support\n",
    "        self.n_query = n_query\n",
    "        self.n_class = n_class\n",
    "        self.n_one_dataset = n_class * n_support\n",
    "        self.device = 'cuda' if torch.cuda.is_available() else 'cpu'\n",
    "\n",
    "    def forward(self, input, target):\n",
    "        classes = torch.unique(target)\n",
    "        n_classes = len(classes)\n",
    "\n",
    "        # Make prototypes\n",
    "        support_idxs = torch.stack(list(map(lambda c: target.eq(c).nonzero()[:self.n_support].squeeze(1), classes)))\n",
    "        prototypes = torch.stack([input[idx_list].mean(0) for idx_list in support_idxs])\n",
    "\n",
    "        # Make query samples\n",
    "        n_query = target.eq(classes[0].item()).sum().item() - self.n_support\n",
    "        query_idxs = torch.stack(list(map(lambda c: target.eq(c).nonzero()[self.n_support:], classes))).view(-1)\n",
    "        query_samples = input[query_idxs]\n",
    "\n",
    "        print(query_samples[:1])\n",
    "        print(prototypes[:1])\n",
    "        print(query_samples.shape)\n",
    "        print(prototypes.shape)\n",
    "\n",
    "        dists = euclidean_dist(query_samples, prototypes)\n",
    "\n",
    "        log_p_y = F.log_softmax(-dists, dim=1).view(n_classes, n_query, -1)\n",
    "        y_hat = log_p_y.argmax(2)\n",
    "\n",
    "        target_inds = torch.arange(0, n_classes).to(self.device).view(n_classes, 1, 1).expand(n_classes, n_query, 1).long()\n",
    "\n",
    "        loss_val = -log_p_y.gather(2, target_inds).squeeze().view(-1).mean()\n",
    "\n",
    "        acc_val = y_hat.eq(target_inds.squeeze()).float().mean()\n",
    "\n",
    "        return loss_val, acc_val\n",
    "\n",
    "criterion = PrototypicalLoss2(args.num_support_tr,args.num_query_tr,args.classes_per_it_tr)\n",
    "loss, acc = criterion(output,y)\n",
    "\n",
    "# print(loss,acc)"
   ],
   "metadata": {
    "collapsed": false,
    "pycharm": {
     "name": "#%%\n"
    }
   }
  },
  {
   "cell_type": "code",
   "execution_count": null,
   "outputs": [],
   "source": [
    "\n",
    "\n",
    "\n",
    "\n",
    "\n",
    "\n",
    "\n",
    "\n",
    "\n",
    "\n",
    "\n",
    "\n",
    "\n",
    "\n",
    "\n",
    "\n",
    "\n",
    "\n"
   ],
   "metadata": {
    "collapsed": false,
    "pycharm": {
     "name": "#%%\n"
    }
   }
  }
 ],
 "metadata": {
  "kernelspec": {
   "display_name": "Python 3",
   "language": "python",
   "name": "python3"
  },
  "language_info": {
   "codemirror_mode": {
    "name": "ipython",
    "version": 2
   },
   "file_extension": ".py",
   "mimetype": "text/x-python",
   "name": "python",
   "nbconvert_exporter": "python",
   "pygments_lexer": "ipython2",
   "version": "2.7.6"
  }
 },
 "nbformat": 4,
 "nbformat_minor": 0
}