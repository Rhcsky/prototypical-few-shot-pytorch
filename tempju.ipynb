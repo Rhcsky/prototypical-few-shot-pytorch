{
 "cells": [
  {
   "cell_type": "code",
   "execution_count": 1,
   "metadata": {
    "collapsed": true
   },
   "outputs": [],
   "source": [
    "import torch\n",
    "from dataloader import get_dataloader\n",
    "from configurate import get_config\n",
    "import torchvision.transforms as trs\n",
    "from easydict import EasyDict"
   ]
  },
  {
   "cell_type": "code",
   "execution_count": 2,
   "outputs": [],
   "source": [
    "args = EasyDict({\n",
    "    'iterations' : 100,\n",
    "    'classes_per_it_tr' : 60,\n",
    "    'num_support_tr' : 5,\n",
    "    'num_query_tr' : 5,\n",
    "    'classes_per_it_val' : 5,\n",
    "    'num_support_val' : 5,\n",
    "    'num_query_val' : 15,\n",
    "})"
   ],
   "metadata": {
    "collapsed": false,
    "pycharm": {
     "name": "#%%\n"
    }
   }
  },
  {
   "cell_type": "code",
   "execution_count": 3,
   "outputs": [
    {
     "name": "stderr",
     "output_type": "stream",
     "text": [
      "Making dataset: 100%|██████████| 4112/4112 [00:37<00:00, 108.55it/s]\n",
      "Making dataset: 100%|██████████| 688/688 [00:05<00:00, 133.31it/s]\n"
     ]
    },
    {
     "name": "stdout",
     "output_type": "stream",
     "text": [
      "train\n",
      "val\n"
     ]
    }
   ],
   "source": [
    "train_loader, val_loader=  get_dataloader(args,'train','val')\n"
   ],
   "metadata": {
    "collapsed": false,
    "pycharm": {
     "name": "#%%\n"
    }
   }
  }
 ],
 "metadata": {
  "kernelspec": {
   "display_name": "Python 3",
   "language": "python",
   "name": "python3"
  },
  "language_info": {
   "codemirror_mode": {
    "name": "ipython",
    "version": 2
   },
   "file_extension": ".py",
   "mimetype": "text/x-python",
   "name": "python",
   "nbconvert_exporter": "python",
   "pygments_lexer": "ipython2",
   "version": "2.7.6"
  }
 },
 "nbformat": 4,
 "nbformat_minor": 0
}